{
  "cells": [
    {
      "cell_type": "markdown",
      "metadata": {
        "id": "view-in-github",
        "colab_type": "text"
      },
      "source": [
        "<a href=\"https://colab.research.google.com/github/shreyamh795/chatbox/blob/main/Copy_of_train_textbook.ipynb\" target=\"_parent\"><img src=\"https://colab.research.google.com/assets/colab-badge.svg\" alt=\"Open In Colab\"/></a>"
      ]
    },
    {
      "cell_type": "code",
      "execution_count": 1,
      "metadata": {
        "colab": {
          "base_uri": "https://localhost:8080/"
        },
        "id": "SKWFl9YI6RU8",
        "outputId": "62c986dc-d984-406b-b462-e0fce7fc9326"
      },
      "outputs": [
        {
          "output_type": "stream",
          "name": "stdout",
          "text": [
            "Collecting pyMuPDF\n",
            "  Downloading pymupdf-1.25.5-cp39-abi3-manylinux2014_x86_64.manylinux_2_17_x86_64.whl.metadata (3.4 kB)\n",
            "Downloading pymupdf-1.25.5-cp39-abi3-manylinux2014_x86_64.manylinux_2_17_x86_64.whl (20.0 MB)\n",
            "\u001b[2K   \u001b[90m━━━━━━━━━━━━━━━━━━━━━━━━━━━━━━━━━━━━━━━━\u001b[0m \u001b[32m20.0/20.0 MB\u001b[0m \u001b[31m18.7 MB/s\u001b[0m eta \u001b[36m0:00:00\u001b[0m\n",
            "\u001b[?25hInstalling collected packages: pyMuPDF\n",
            "Successfully installed pyMuPDF-1.25.5\n"
          ]
        }
      ],
      "source": [
        "#importing necessary libraries\n",
        "!pip install pyMuPDF\n",
        "import urllib.request\n",
        "import fitz\n",
        "import re\n",
        "import numpy as np\n",
        "import tensorflow_hub as hub\n",
        "\n",
        "import os\n",
        "from sklearn.neighbors import NearestNeighbors\n"
      ]
    },
    {
      "cell_type": "code",
      "execution_count": 2,
      "metadata": {
        "id": "Pat0rreATkXU"
      },
      "outputs": [],
      "source": [
        "# defining the required functions\n",
        "def download_pdf(url, output_path):\n",
        "    urllib.request.urlretrieve(url, output_path)\n",
        "\n",
        "\n",
        "def preprocess(text):\n",
        "    text = text.replace('\\n', ' ')\n",
        "    text = re.sub('\\s+', ' ', text)\n",
        "    return text\n",
        "\n",
        "\n",
        "def pdf_to_text(path, start_page=1, end_page=None):\n",
        "    doc = fitz.open(path)\n",
        "    total_pages = doc.page_count\n",
        "\n",
        "    if end_page is None:\n",
        "        end_page = total_pages\n",
        "\n",
        "    text_list = []\n",
        "\n",
        "    for i in range(start_page-1, end_page):\n",
        "        text = doc.load_page(i).get_text(\"text\")\n",
        "        text = preprocess(text)\n",
        "        text_list.append(text)\n",
        "\n",
        "    doc.close()\n",
        "    return text_list\n",
        "\n",
        "\n",
        "def text_to_chunks(texts, word_length=150, start_page=1):\n",
        "    text_toks = [t.split(' ') for t in texts]\n",
        "    page_nums = []\n",
        "    chunks = []\n",
        "\n",
        "    for idx, words in enumerate(text_toks):\n",
        "        for i in range(0, len(words), word_length):\n",
        "            chunk = words[i:i+word_length]\n",
        "            if (i+word_length) > len(words) and (len(chunk) < word_length) and (\n",
        "                len(text_toks) != (idx+1)):\n",
        "                text_toks[idx+1] = chunk + text_toks[idx+1]\n",
        "                continue\n",
        "            chunk = ' '.join(chunk).strip()\n",
        "            chunk = f'[{idx+start_page}]' + ' ' + '\"' + chunk + '\"'\n",
        "            chunks.append(chunk)\n",
        "    return chunks"
      ]
    },
    {
      "cell_type": "code",
      "execution_count": 3,
      "metadata": {
        "id": "x_ubpjtSUONy"
      },
      "outputs": [],
      "source": [
        "# loading the textbook\n",
        "download_pdf('https://books.ebalbharati.in/pdfs/703020012.pdf','book.pdf')\n",
        "#converting into .txt format\n",
        "pages=pdf_to_text('book.pdf')\n",
        "#creating chunks from the text generated\n",
        "chunks=text_to_chunks(pages)"
      ]
    },
    {
      "cell_type": "code",
      "execution_count": 5,
      "metadata": {
        "colab": {
          "base_uri": "https://localhost:8080/"
        },
        "id": "oKlCpf4QXYlL",
        "outputId": "5681be1e-d9a6-4e80-8c72-6546fa8c131d"
      },
      "outputs": [
        {
          "output_type": "stream",
          "name": "stdout",
          "text": [
            "the toalwords are  50906\n",
            "length of chunks is 340\n"
          ]
        }
      ],
      "source": [
        "total_words=0\n",
        "for page in pages:\n",
        "  total_words +=len(page.split(' '))\n",
        "\n",
        "print(\"the toalwords are \", total_words)\n",
        "print(\"length of chunks is\",len(chunks))"
      ]
    },
    {
      "cell_type": "code",
      "execution_count": 6,
      "metadata": {
        "colab": {
          "base_uri": "https://localhost:8080/"
        },
        "id": "Tb-SWy6XX0P_",
        "outputId": "e4aae672-d887-407c-f016-69fc613328c2"
      },
      "outputs": [
        {
          "output_type": "stream",
          "name": "stdout",
          "text": [
            "[12] \"Tie plastic bags loosely around the leaves of these plants and keep them in sunlight from early in the morning. In the afternoon, bring those pots into the classroom and observe them. Has the same quantity of water collected in both bags ? Desert plants are either leafless or their leaves are like small needles or have been modified into thorns. As a result, they lose very little water by evaporation. The stem stores water and food and is therefore fleshy. The stems are green as they perform photosynthesis in the absence of leaves. Their roots penetrate deep into the soil and some roots spread away into the soil in search of water. There is a thick layer of a waxy substance on the stems of these plants, too. 1.4 Cactus are thin and slender like a ribbon. This shape helps them to withstand fast currents of water. Air spaces\"\n",
            "\n",
            "[18] \"– the first part is ‘genus’ and second, ‘species’. All identified organisms have been assigned a binomial name as per the guidelines of the International Code of Nomenclature. All the organisms of a species are so similar that irrespective of differences in colour, height, habitats and habits, they can reproduce among themselves and form new individuals like themselves. For example, all domestic cats in the world belong to the same species. The same is true in the case of animals like hen, cow, dog, etc. and plants like mango, wheat, maize, etc. Classification of living organisms Great Scientists It is difficult to study and remember all the organisms in this diverse living world at the same time. Classification helps in this respect. Different scientists have used different criteria and independently classified plants and animals. A hierarchy is Hierarchy Mango Human Kingdom Plantae Animalia Phylum Anthophyla Chordata Class Dicotyledonae Mammalia Order\"\n",
            "\n",
            "[64] \"When the charged comb is taken away from the flowing water, it gets attracted/repelled/remains 8.5 A balloon sticking to a wall 1. The number of positive and negative charges are equal on an uncharged or neutral object. 2. The electric charge generated by induction stays only as long as the charged object is near to it. 1. To charge an object by contact. as it was, initially. At first, the flow of water is not charged. When a negatively charged comb comes near the flowing water, the negative particles in it nearest the comb are pushed away. That part becomes positively charged due to a deficiency of negative charge. The comb has negative, and the water has positive charge. Due to the attraction between these opposite charges, the flowing water is attracted towards the comb. When the comb is taken away, the negative particles in the flowing water come back\"\n",
            "\n",
            "[21] \"Garden covers a very large area. It 2.5 Water level Why are the underground parts of plants like radish, carrot, beet and sweet potato thick, fleshy and swollen ? Which part of the plant are they ? Techno-support Collect images of different types of roots and send them to your friends via e-mail. (1) What would have happened if plants like tamarind, banyan and mango had fibrous roots ? (2) What will happen if the root-tip is injured ? (3) Which types of roots do the fenugreek, spinach and onion plants have ? Find out. Do you know ? is supported by thousands of prop-roots. Is there any such tree in your neighbourhood ? carefully while the soil is moist and put them gently in a large conical flask containing water. The soil will get washed off without any harm to the roots. Observe the roots carefully to see which\"\n",
            "\n",
            "[134] \"movement of our hands or of the movement of leaves falling from a tree ? What would be the difference perceived between hearing only two pupils in the class talking to each other and all the children talking to one another at the same time ? Ultrasonic sound A sound with a frequency higher than 20,000 Hz is called ultrasonic sound. Human beings cannot hear such sounds. However, some animals, for example, a dog, can hear such sounds. Uses of ultrasonic sound 1. To clean delicate ornaments and the tiny parts of a watch. 2. To observe internal organs of the body. 3. To detect tumours in the brain. 4. To detect faults in a metal. Take a oscillator and swing an oscillator which makes 3-4 oscillations in a second, and listen carefully for any sound it makes. Find out. 5. In RADAR systems. 6. To kill certain microbes and\"\n",
            "\n"
          ]
        }
      ],
      "source": [
        "#displaying random number of chunks\n",
        "import random\n",
        "random.seed(123)\n",
        "random_idxs = random.choices(range(0, len(chunks)), k=5)\n",
        "\n",
        "for idx in random_idxs:\n",
        "  print(chunks[idx])\n",
        "  print()"
      ]
    },
    {
      "cell_type": "code",
      "execution_count": 8,
      "metadata": {
        "id": "_XZN9AFVaShQ"
      },
      "outputs": [],
      "source": [
        "#defining the class for creation of vector space\n",
        "class SemanticSearch:\n",
        "\n",
        "    def __init__(self):\n",
        "        self.use = hub.load('https://tfhub.dev/google/universal-sentence-encoder/4')\n",
        "        self.fitted = False\n",
        "\n",
        "\n",
        "    def fit(self, data, batch=1000, n_neighbors=5):\n",
        "        self.data = data\n",
        "        self.embeddings = self.get_text_embedding(data, batch=batch)\n",
        "        n_neighbors = min(n_neighbors, len(self.embeddings))\n",
        "        self.nn = NearestNeighbors(n_neighbors=n_neighbors)\n",
        "        self.nn.fit(self.embeddings)\n",
        "        self.fitted = True\n",
        "\n",
        "\n",
        "    def __call__(self, text, return_data=True):\n",
        "        inp_emb = self.use([text])\n",
        "        neighbors = self.nn.kneighbors(inp_emb, return_distance=False)[0]\n",
        "\n",
        "        if return_data:\n",
        "            return [self.data[i] for i in neighbors]\n",
        "        else:\n",
        "            return neighbors\n",
        "\n",
        "\n",
        "    def get_text_embedding(self, texts, batch=1000):\n",
        "        embeddings = []\n",
        "        for i in range(0, len(texts), batch):\n",
        "            text_batch = texts[i:(i+batch)]\n",
        "            emb_batch = self.use(text_batch)\n",
        "            embeddings.append(emb_batch)\n",
        "        embeddings = np.vstack(embeddings)\n",
        "        return embeddings"
      ]
    },
    {
      "cell_type": "code",
      "execution_count": 10,
      "metadata": {
        "id": "hnWLACBZcv6p",
        "colab": {
          "base_uri": "https://localhost:8080/",
          "height": 319
        },
        "outputId": "ff51e987-0d0d-4055-fc37-3d272c666069"
      },
      "outputs": [
        {
          "output_type": "error",
          "ename": "MessageError",
          "evalue": "Error: credential propagation was unsuccessful",
          "traceback": [
            "\u001b[0;31m---------------------------------------------------------------------------\u001b[0m",
            "\u001b[0;31mMessageError\u001b[0m                              Traceback (most recent call last)",
            "\u001b[0;32m<ipython-input-10-d5df0069828e>\u001b[0m in \u001b[0;36m<cell line: 0>\u001b[0;34m()\u001b[0m\n\u001b[1;32m      1\u001b[0m \u001b[0;32mfrom\u001b[0m \u001b[0mgoogle\u001b[0m\u001b[0;34m.\u001b[0m\u001b[0mcolab\u001b[0m \u001b[0;32mimport\u001b[0m \u001b[0mdrive\u001b[0m\u001b[0;34m\u001b[0m\u001b[0;34m\u001b[0m\u001b[0m\n\u001b[0;32m----> 2\u001b[0;31m \u001b[0mdrive\u001b[0m\u001b[0;34m.\u001b[0m\u001b[0mmount\u001b[0m\u001b[0;34m(\u001b[0m\u001b[0;34m'/content/drive'\u001b[0m\u001b[0;34m)\u001b[0m\u001b[0;34m\u001b[0m\u001b[0;34m\u001b[0m\u001b[0m\n\u001b[0m",
            "\u001b[0;32m/usr/local/lib/python3.11/dist-packages/google/colab/drive.py\u001b[0m in \u001b[0;36mmount\u001b[0;34m(mountpoint, force_remount, timeout_ms, readonly)\u001b[0m\n\u001b[1;32m     98\u001b[0m \u001b[0;32mdef\u001b[0m \u001b[0mmount\u001b[0m\u001b[0;34m(\u001b[0m\u001b[0mmountpoint\u001b[0m\u001b[0;34m,\u001b[0m \u001b[0mforce_remount\u001b[0m\u001b[0;34m=\u001b[0m\u001b[0;32mFalse\u001b[0m\u001b[0;34m,\u001b[0m \u001b[0mtimeout_ms\u001b[0m\u001b[0;34m=\u001b[0m\u001b[0;36m120000\u001b[0m\u001b[0;34m,\u001b[0m \u001b[0mreadonly\u001b[0m\u001b[0;34m=\u001b[0m\u001b[0;32mFalse\u001b[0m\u001b[0;34m)\u001b[0m\u001b[0;34m:\u001b[0m\u001b[0;34m\u001b[0m\u001b[0;34m\u001b[0m\u001b[0m\n\u001b[1;32m     99\u001b[0m   \u001b[0;34m\"\"\"Mount your Google Drive at the specified mountpoint path.\"\"\"\u001b[0m\u001b[0;34m\u001b[0m\u001b[0;34m\u001b[0m\u001b[0m\n\u001b[0;32m--> 100\u001b[0;31m   return _mount(\n\u001b[0m\u001b[1;32m    101\u001b[0m       \u001b[0mmountpoint\u001b[0m\u001b[0;34m,\u001b[0m\u001b[0;34m\u001b[0m\u001b[0;34m\u001b[0m\u001b[0m\n\u001b[1;32m    102\u001b[0m       \u001b[0mforce_remount\u001b[0m\u001b[0;34m=\u001b[0m\u001b[0mforce_remount\u001b[0m\u001b[0;34m,\u001b[0m\u001b[0;34m\u001b[0m\u001b[0;34m\u001b[0m\u001b[0m\n",
            "\u001b[0;32m/usr/local/lib/python3.11/dist-packages/google/colab/drive.py\u001b[0m in \u001b[0;36m_mount\u001b[0;34m(mountpoint, force_remount, timeout_ms, ephemeral, readonly)\u001b[0m\n\u001b[1;32m    135\u001b[0m   )\n\u001b[1;32m    136\u001b[0m   \u001b[0;32mif\u001b[0m \u001b[0mephemeral\u001b[0m\u001b[0;34m:\u001b[0m\u001b[0;34m\u001b[0m\u001b[0;34m\u001b[0m\u001b[0m\n\u001b[0;32m--> 137\u001b[0;31m     _message.blocking_request(\n\u001b[0m\u001b[1;32m    138\u001b[0m         \u001b[0;34m'request_auth'\u001b[0m\u001b[0;34m,\u001b[0m\u001b[0;34m\u001b[0m\u001b[0;34m\u001b[0m\u001b[0m\n\u001b[1;32m    139\u001b[0m         \u001b[0mrequest\u001b[0m\u001b[0;34m=\u001b[0m\u001b[0;34m{\u001b[0m\u001b[0;34m'authType'\u001b[0m\u001b[0;34m:\u001b[0m \u001b[0;34m'dfs_ephemeral'\u001b[0m\u001b[0;34m}\u001b[0m\u001b[0;34m,\u001b[0m\u001b[0;34m\u001b[0m\u001b[0;34m\u001b[0m\u001b[0m\n",
            "\u001b[0;32m/usr/local/lib/python3.11/dist-packages/google/colab/_message.py\u001b[0m in \u001b[0;36mblocking_request\u001b[0;34m(request_type, request, timeout_sec, parent)\u001b[0m\n\u001b[1;32m    174\u001b[0m       \u001b[0mrequest_type\u001b[0m\u001b[0;34m,\u001b[0m \u001b[0mrequest\u001b[0m\u001b[0;34m,\u001b[0m \u001b[0mparent\u001b[0m\u001b[0;34m=\u001b[0m\u001b[0mparent\u001b[0m\u001b[0;34m,\u001b[0m \u001b[0mexpect_reply\u001b[0m\u001b[0;34m=\u001b[0m\u001b[0;32mTrue\u001b[0m\u001b[0;34m\u001b[0m\u001b[0;34m\u001b[0m\u001b[0m\n\u001b[1;32m    175\u001b[0m   )\n\u001b[0;32m--> 176\u001b[0;31m   \u001b[0;32mreturn\u001b[0m \u001b[0mread_reply_from_input\u001b[0m\u001b[0;34m(\u001b[0m\u001b[0mrequest_id\u001b[0m\u001b[0;34m,\u001b[0m \u001b[0mtimeout_sec\u001b[0m\u001b[0;34m)\u001b[0m\u001b[0;34m\u001b[0m\u001b[0;34m\u001b[0m\u001b[0m\n\u001b[0m",
            "\u001b[0;32m/usr/local/lib/python3.11/dist-packages/google/colab/_message.py\u001b[0m in \u001b[0;36mread_reply_from_input\u001b[0;34m(message_id, timeout_sec)\u001b[0m\n\u001b[1;32m    101\u001b[0m     ):\n\u001b[1;32m    102\u001b[0m       \u001b[0;32mif\u001b[0m \u001b[0;34m'error'\u001b[0m \u001b[0;32min\u001b[0m \u001b[0mreply\u001b[0m\u001b[0;34m:\u001b[0m\u001b[0;34m\u001b[0m\u001b[0;34m\u001b[0m\u001b[0m\n\u001b[0;32m--> 103\u001b[0;31m         \u001b[0;32mraise\u001b[0m \u001b[0mMessageError\u001b[0m\u001b[0;34m(\u001b[0m\u001b[0mreply\u001b[0m\u001b[0;34m[\u001b[0m\u001b[0;34m'error'\u001b[0m\u001b[0;34m]\u001b[0m\u001b[0;34m)\u001b[0m\u001b[0;34m\u001b[0m\u001b[0;34m\u001b[0m\u001b[0m\n\u001b[0m\u001b[1;32m    104\u001b[0m       \u001b[0;32mreturn\u001b[0m \u001b[0mreply\u001b[0m\u001b[0;34m.\u001b[0m\u001b[0mget\u001b[0m\u001b[0;34m(\u001b[0m\u001b[0;34m'data'\u001b[0m\u001b[0;34m,\u001b[0m \u001b[0;32mNone\u001b[0m\u001b[0;34m)\u001b[0m\u001b[0;34m\u001b[0m\u001b[0;34m\u001b[0m\u001b[0m\n\u001b[1;32m    105\u001b[0m \u001b[0;34m\u001b[0m\u001b[0m\n",
            "\u001b[0;31mMessageError\u001b[0m: Error: credential propagation was unsuccessful"
          ]
        }
      ],
      "source": [
        "from google.colab import drive\n",
        "drive.mount('/content/drive')"
      ]
    },
    {
      "cell_type": "code",
      "execution_count": 11,
      "metadata": {
        "id": "w_ap3Xx8aVDB"
      },
      "outputs": [],
      "source": [
        "recommender = SemanticSearch()\n",
        "recommender.fit(chunks)"
      ]
    },
    {
      "cell_type": "markdown",
      "metadata": {
        "id": "qzmOAqykKYBR"
      },
      "source": []
    },
    {
      "cell_type": "code",
      "execution_count": 16,
      "metadata": {
        "colab": {
          "base_uri": "https://localhost:8080/"
        },
        "id": "gKlLkaOTawi0",
        "outputId": "c0045baf-7795-4ead-c8d3-7501a659033d"
      },
      "outputs": [
        {
          "output_type": "execute_result",
          "data": {
            "text/plain": [
              "['[42] \"animals like dogs and buffalloes ? Which are those small animals ? 2. From where do these little animals obtain 4.11 Parasites their food ? 3. From where do the worms in the intestine obtain their food ? Some animals depend upon other animals for food. They can obtain the food only from animals on whom they are dependent. This is called as parasitic nutrition. Some animals live on the body surface of other animals and obtain their food by sucking their blood. This is called ectoparasitic nutrition and such animals are called ectoparasites, for example, louse, bed-bug, tick, etc. Animals like tapeworm and roundworms live inside the body of other animals and obtain their food. This is endoparasitic nutrition and these animals are known as endoparasites. The anteater is found in Central and South America. The bobcat or udmanjar is found in India. Obtain its pictures from the internet.\"',\n",
              " '[114] \"causes the hardness of water ? Exercise Find out.  104 104 1. What is meant by natural resources? 2. Give some examples of natural resources. We get many substances from nature. They satisfy a variety of our daily needs. Soil, stones, minerals, air, water, plants and animals on the earth are all various kinds of natural resources. What is meant by lithosphere ? 1. Why are all minerals not ores ? 2. What is meant by ‘metal mineral’ and ‘non-metal mineral’ ? 16.1 Mining Metals are obtained from their ore by extraction and purification. Impurities of sand and soil in an ore are called ‘gangue’. 16. Natural Resources Let’s recall. Let’s recall. Use your brain power ! Natural resources in the earth’s crust The earth’s lithosphere is made up of land and the hard crust beneath it. The lithosphere is not homogeneous but is made up of many types\"',\n",
              " '[103] \"term matter is also used as a synonym of substance. In scientific language, however, a single term is used for a single concept, and that which an object is made of is called matter. Let’s recall. Use your brain power ! Try this. Can you tell ? The particulate nature of matter and properties of matter  93 93 1. Fill a glass of water upto the brim. Drop a small stone in it. What happens ? 2. Take a balance. Place a small stone in one pan and a big stone in the other. Which pan goes down ? Why ? Which properties of matter can you tell from the above activities ? Objects have mass and mass can be measured with the help of devices like the common balance. Also, they occupy space. They acquire both these properties from the matter that they are made of. In other\"',\n",
              " '[141] \"geology, these machines are used to detect the presence and quantity of metals. 1. Why is repulsion the real test for identifying a magnet ? 2. How will you find a magnet from among the various articles given to you ? Use your brain power ! Can you tell ? Exercise  131 131 1. What is a galaxy ? What are the various components of a galaxy ? 2. What are the different types of stars ? The following figure shows different stages in the lifecycle of stars after their birth from a nebula. Discuss these in the class. 20.1 Lifecycle of stars Our solar system is a tiny part of a galaxy called the Milky Way, which is many, many times larger than the solar system. There are lakhs of stars in the Milky Way, some of them being many times bigger than our Sun. Some of them\"',\n",
              " '[52] \"unit to measure physical quantities such as mass, weight, distance, velocity, temperature ? In everyday affairs, we measure many different physical quantities. As these physical quantities are different from each other a specific unit is used to measure each quantity. Therefore, different units are used while measuring different quantities. Our body has weight because of the gravitational force of the earth. The gravitational force of the moon being less, our weight will turn out to be less there. Our mass, however, is the same at both the places. Prevailing systems of measurement 1. MKS System : In this system distance is measured in metres, mass in kilograms and time in seconds. 2. CGS System : In this system distance is measured in centimetres, mass in grams and time in seconds. In the MKS system of measurement, distance, mass, and time are accepted as the fundamental quantities. These three quantities are\"']"
            ]
          },
          "metadata": {},
          "execution_count": 16
        }
      ],
      "source": [
        "recommender('what is the living world')"
      ]
    }
  ],
  "metadata": {
    "colab": {
      "provenance": [],
      "include_colab_link": true
    },
    "kernelspec": {
      "display_name": "Python 3",
      "name": "python3"
    },
    "language_info": {
      "name": "python"
    }
  },
  "nbformat": 4,
  "nbformat_minor": 0
}